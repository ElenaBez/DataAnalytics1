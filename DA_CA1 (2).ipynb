{
 "cells": [
  {
   "cell_type": "code",
   "execution_count": 1,
   "id": "a4d38b96",
   "metadata": {},
   "outputs": [],
   "source": [
    "# importing all necessary libraries \n",
    "import pandas as pd"
   ]
  },
  {
   "cell_type": "code",
   "execution_count": 4,
   "id": "c038e516",
   "metadata": {},
   "outputs": [],
   "source": [
    "# Uploading th file \n",
    "df=pd.read_csv(\"Emp by sector and region.csv\")"
   ]
  },
  {
   "cell_type": "markdown",
   "id": "d92a75b0",
   "metadata": {},
   "source": [
    "# Data Preparation"
   ]
  },
  {
   "cell_type": "code",
   "execution_count": 15,
   "id": "e9114512",
   "metadata": {},
   "outputs": [
    {
     "data": {
      "text/html": [
       "<div>\n",
       "<style scoped>\n",
       "    .dataframe tbody tr th:only-of-type {\n",
       "        vertical-align: middle;\n",
       "    }\n",
       "\n",
       "    .dataframe tbody tr th {\n",
       "        vertical-align: top;\n",
       "    }\n",
       "\n",
       "    .dataframe thead th {\n",
       "        text-align: right;\n",
       "    }\n",
       "</style>\n",
       "<table border=\"1\" class=\"dataframe\">\n",
       "  <thead>\n",
       "    <tr style=\"text-align: right;\">\n",
       "      <th></th>\n",
       "      <th>Statistic Label</th>\n",
       "      <th>Year</th>\n",
       "      <th>Region</th>\n",
       "      <th>Sector</th>\n",
       "      <th>UNIT</th>\n",
       "      <th>VALUE</th>\n",
       "    </tr>\n",
       "  </thead>\n",
       "  <tbody>\n",
       "    <tr>\n",
       "      <th>0</th>\n",
       "      <td>Total Employment</td>\n",
       "      <td>2000</td>\n",
       "      <td>Ireland</td>\n",
       "      <td>All selected NACE sectors ( A-S)</td>\n",
       "      <td>Person</td>\n",
       "      <td>310464.0</td>\n",
       "    </tr>\n",
       "    <tr>\n",
       "      <th>1</th>\n",
       "      <td>Total Employment</td>\n",
       "      <td>2000</td>\n",
       "      <td>Ireland</td>\n",
       "      <td>Agriculture, forestry &amp; fishing, mining &amp; quar...</td>\n",
       "      <td>Person</td>\n",
       "      <td>52452.0</td>\n",
       "    </tr>\n",
       "    <tr>\n",
       "      <th>2</th>\n",
       "      <td>Total Employment</td>\n",
       "      <td>2000</td>\n",
       "      <td>Ireland</td>\n",
       "      <td>Traditional Manufacturing (13 -18, 22-25, 28-3...</td>\n",
       "      <td>Person</td>\n",
       "      <td>90200.0</td>\n",
       "    </tr>\n",
       "    <tr>\n",
       "      <th>3</th>\n",
       "      <td>Total Employment</td>\n",
       "      <td>2000</td>\n",
       "      <td>Ireland</td>\n",
       "      <td>Modern Manufacturing (19-21, 26-27, 325)</td>\n",
       "      <td>Person</td>\n",
       "      <td>87248.0</td>\n",
       "    </tr>\n",
       "    <tr>\n",
       "      <th>4</th>\n",
       "      <td>Total Employment</td>\n",
       "      <td>2000</td>\n",
       "      <td>Ireland</td>\n",
       "      <td>Energy, Water, Waste &amp; Construction (D to F)</td>\n",
       "      <td>Person</td>\n",
       "      <td>6751.0</td>\n",
       "    </tr>\n",
       "    <tr>\n",
       "      <th>5</th>\n",
       "      <td>Total Employment</td>\n",
       "      <td>2000</td>\n",
       "      <td>Ireland</td>\n",
       "      <td>Information &amp; Communication Services (J)</td>\n",
       "      <td>Person</td>\n",
       "      <td>54032.0</td>\n",
       "    </tr>\n",
       "    <tr>\n",
       "      <th>6</th>\n",
       "      <td>Total Employment</td>\n",
       "      <td>2000</td>\n",
       "      <td>Ireland</td>\n",
       "      <td>Selected services (G to I, K to S)</td>\n",
       "      <td>Person</td>\n",
       "      <td>19779.0</td>\n",
       "    </tr>\n",
       "    <tr>\n",
       "      <th>7</th>\n",
       "      <td>Total Employment</td>\n",
       "      <td>2000</td>\n",
       "      <td>Border</td>\n",
       "      <td>All selected NACE sectors ( A-S)</td>\n",
       "      <td>Person</td>\n",
       "      <td>24385.0</td>\n",
       "    </tr>\n",
       "    <tr>\n",
       "      <th>8</th>\n",
       "      <td>Total Employment</td>\n",
       "      <td>2000</td>\n",
       "      <td>Border</td>\n",
       "      <td>Agriculture, forestry &amp; fishing, mining &amp; quar...</td>\n",
       "      <td>Person</td>\n",
       "      <td>6631.0</td>\n",
       "    </tr>\n",
       "    <tr>\n",
       "      <th>9</th>\n",
       "      <td>Total Employment</td>\n",
       "      <td>2000</td>\n",
       "      <td>Border</td>\n",
       "      <td>Traditional Manufacturing (13 -18, 22-25, 28-3...</td>\n",
       "      <td>Person</td>\n",
       "      <td>10537.0</td>\n",
       "    </tr>\n",
       "  </tbody>\n",
       "</table>\n",
       "</div>"
      ],
      "text/plain": [
       "    Statistic Label  Year   Region  \\\n",
       "0  Total Employment  2000  Ireland   \n",
       "1  Total Employment  2000  Ireland   \n",
       "2  Total Employment  2000  Ireland   \n",
       "3  Total Employment  2000  Ireland   \n",
       "4  Total Employment  2000  Ireland   \n",
       "5  Total Employment  2000  Ireland   \n",
       "6  Total Employment  2000  Ireland   \n",
       "7  Total Employment  2000   Border   \n",
       "8  Total Employment  2000   Border   \n",
       "9  Total Employment  2000   Border   \n",
       "\n",
       "                                              Sector    UNIT     VALUE  \n",
       "0                   All selected NACE sectors ( A-S)  Person  310464.0  \n",
       "1  Agriculture, forestry & fishing, mining & quar...  Person   52452.0  \n",
       "2  Traditional Manufacturing (13 -18, 22-25, 28-3...  Person   90200.0  \n",
       "3           Modern Manufacturing (19-21, 26-27, 325)  Person   87248.0  \n",
       "4       Energy, Water, Waste & Construction (D to F)  Person    6751.0  \n",
       "5           Information & Communication Services (J)  Person   54032.0  \n",
       "6                 Selected services (G to I, K to S)  Person   19779.0  \n",
       "7                   All selected NACE sectors ( A-S)  Person   24385.0  \n",
       "8  Agriculture, forestry & fishing, mining & quar...  Person    6631.0  \n",
       "9  Traditional Manufacturing (13 -18, 22-25, 28-3...  Person   10537.0  "
      ]
     },
     "execution_count": 15,
     "metadata": {},
     "output_type": "execute_result"
    }
   ],
   "source": [
    "#Displaying the first and last 10 rows of the data. This give us an overview of how the dataset is structured\n",
    "df.head(10)"
   ]
  },
  {
   "cell_type": "code",
   "execution_count": 16,
   "id": "8ff0bf5c",
   "metadata": {},
   "outputs": [
    {
     "data": {
      "text/html": [
       "<div>\n",
       "<style scoped>\n",
       "    .dataframe tbody tr th:only-of-type {\n",
       "        vertical-align: middle;\n",
       "    }\n",
       "\n",
       "    .dataframe tbody tr th {\n",
       "        vertical-align: top;\n",
       "    }\n",
       "\n",
       "    .dataframe thead th {\n",
       "        text-align: right;\n",
       "    }\n",
       "</style>\n",
       "<table border=\"1\" class=\"dataframe\">\n",
       "  <thead>\n",
       "    <tr style=\"text-align: right;\">\n",
       "      <th></th>\n",
       "      <th>Statistic Label</th>\n",
       "      <th>Year</th>\n",
       "      <th>Region</th>\n",
       "      <th>Sector</th>\n",
       "      <th>UNIT</th>\n",
       "      <th>VALUE</th>\n",
       "    </tr>\n",
       "  </thead>\n",
       "  <tbody>\n",
       "    <tr>\n",
       "      <th>1376</th>\n",
       "      <td>Total Employment</td>\n",
       "      <td>2021</td>\n",
       "      <td>Mid East</td>\n",
       "      <td>Energy, Water, Waste &amp; Construction (D to F)</td>\n",
       "      <td>Person</td>\n",
       "      <td>1242.0</td>\n",
       "    </tr>\n",
       "    <tr>\n",
       "      <th>1377</th>\n",
       "      <td>Total Employment</td>\n",
       "      <td>2021</td>\n",
       "      <td>Mid East</td>\n",
       "      <td>Information &amp; Communication Services (J)</td>\n",
       "      <td>Person</td>\n",
       "      <td>4045.0</td>\n",
       "    </tr>\n",
       "    <tr>\n",
       "      <th>1378</th>\n",
       "      <td>Total Employment</td>\n",
       "      <td>2021</td>\n",
       "      <td>Mid East</td>\n",
       "      <td>Selected services (G to I, K to S)</td>\n",
       "      <td>Person</td>\n",
       "      <td>5293.0</td>\n",
       "    </tr>\n",
       "    <tr>\n",
       "      <th>1379</th>\n",
       "      <td>Total Employment</td>\n",
       "      <td>2021</td>\n",
       "      <td>Midlands</td>\n",
       "      <td>All selected NACE sectors ( A-S)</td>\n",
       "      <td>Person</td>\n",
       "      <td>15408.0</td>\n",
       "    </tr>\n",
       "    <tr>\n",
       "      <th>1380</th>\n",
       "      <td>Total Employment</td>\n",
       "      <td>2021</td>\n",
       "      <td>Midlands</td>\n",
       "      <td>Agriculture, forestry &amp; fishing, mining &amp; quar...</td>\n",
       "      <td>Person</td>\n",
       "      <td>3772.0</td>\n",
       "    </tr>\n",
       "    <tr>\n",
       "      <th>1381</th>\n",
       "      <td>Total Employment</td>\n",
       "      <td>2021</td>\n",
       "      <td>Midlands</td>\n",
       "      <td>Traditional Manufacturing (13 -18, 22-25, 28-3...</td>\n",
       "      <td>Person</td>\n",
       "      <td>4661.0</td>\n",
       "    </tr>\n",
       "    <tr>\n",
       "      <th>1382</th>\n",
       "      <td>Total Employment</td>\n",
       "      <td>2021</td>\n",
       "      <td>Midlands</td>\n",
       "      <td>Modern Manufacturing (19-21, 26-27, 325)</td>\n",
       "      <td>Person</td>\n",
       "      <td>2563.0</td>\n",
       "    </tr>\n",
       "    <tr>\n",
       "      <th>1383</th>\n",
       "      <td>Total Employment</td>\n",
       "      <td>2021</td>\n",
       "      <td>Midlands</td>\n",
       "      <td>Energy, Water, Waste &amp; Construction (D to F)</td>\n",
       "      <td>Person</td>\n",
       "      <td>599.0</td>\n",
       "    </tr>\n",
       "    <tr>\n",
       "      <th>1384</th>\n",
       "      <td>Total Employment</td>\n",
       "      <td>2021</td>\n",
       "      <td>Midlands</td>\n",
       "      <td>Information &amp; Communication Services (J)</td>\n",
       "      <td>Person</td>\n",
       "      <td>2608.0</td>\n",
       "    </tr>\n",
       "    <tr>\n",
       "      <th>1385</th>\n",
       "      <td>Total Employment</td>\n",
       "      <td>2021</td>\n",
       "      <td>Midlands</td>\n",
       "      <td>Selected services (G to I, K to S)</td>\n",
       "      <td>Person</td>\n",
       "      <td>1205.0</td>\n",
       "    </tr>\n",
       "  </tbody>\n",
       "</table>\n",
       "</div>"
      ],
      "text/plain": [
       "       Statistic Label  Year    Region  \\\n",
       "1376  Total Employment  2021  Mid East   \n",
       "1377  Total Employment  2021  Mid East   \n",
       "1378  Total Employment  2021  Mid East   \n",
       "1379  Total Employment  2021  Midlands   \n",
       "1380  Total Employment  2021  Midlands   \n",
       "1381  Total Employment  2021  Midlands   \n",
       "1382  Total Employment  2021  Midlands   \n",
       "1383  Total Employment  2021  Midlands   \n",
       "1384  Total Employment  2021  Midlands   \n",
       "1385  Total Employment  2021  Midlands   \n",
       "\n",
       "                                                 Sector    UNIT    VALUE  \n",
       "1376       Energy, Water, Waste & Construction (D to F)  Person   1242.0  \n",
       "1377           Information & Communication Services (J)  Person   4045.0  \n",
       "1378                 Selected services (G to I, K to S)  Person   5293.0  \n",
       "1379                   All selected NACE sectors ( A-S)  Person  15408.0  \n",
       "1380  Agriculture, forestry & fishing, mining & quar...  Person   3772.0  \n",
       "1381  Traditional Manufacturing (13 -18, 22-25, 28-3...  Person   4661.0  \n",
       "1382           Modern Manufacturing (19-21, 26-27, 325)  Person   2563.0  \n",
       "1383       Energy, Water, Waste & Construction (D to F)  Person    599.0  \n",
       "1384           Information & Communication Services (J)  Person   2608.0  \n",
       "1385                 Selected services (G to I, K to S)  Person   1205.0  "
      ]
     },
     "execution_count": 16,
     "metadata": {},
     "output_type": "execute_result"
    }
   ],
   "source": [
    "df.tail(10)"
   ]
  },
  {
   "cell_type": "code",
   "execution_count": 7,
   "id": "35b9f8dd",
   "metadata": {},
   "outputs": [
    {
     "data": {
      "text/plain": [
       "(1386, 6)"
      ]
     },
     "execution_count": 7,
     "metadata": {},
     "output_type": "execute_result"
    }
   ],
   "source": [
    "#To understand the number of rows and columns in the dataset\n",
    "df.shape"
   ]
  },
  {
   "cell_type": "code",
   "execution_count": 20,
   "id": "e7489615",
   "metadata": {},
   "outputs": [
    {
     "name": "stdout",
     "output_type": "stream",
     "text": [
      "8316\n"
     ]
    }
   ],
   "source": [
    "#To view the total number of values across the whole dataset\n",
    "employment_size = df.size\n",
    "print (df.size)"
   ]
  },
  {
   "cell_type": "code",
   "execution_count": 9,
   "id": "48e72929",
   "metadata": {},
   "outputs": [
    {
     "data": {
      "text/plain": [
       "Statistic Label     object\n",
       "Year                 int64\n",
       "Region              object\n",
       "Sector              object\n",
       "UNIT                object\n",
       "VALUE              float64\n",
       "dtype: object"
      ]
     },
     "execution_count": 9,
     "metadata": {},
     "output_type": "execute_result"
    }
   ],
   "source": [
    "#Viewing the data types\n",
    "df.dtypes"
   ]
  },
  {
   "cell_type": "markdown",
   "id": "0f81dc3a",
   "metadata": {},
   "source": [
    "There are two numerical variables (Year and Value) and four qualitative variables (Region, Sector, Unit, Statistic Label)."
   ]
  },
  {
   "cell_type": "code",
   "execution_count": 23,
   "id": "a064f12b",
   "metadata": {},
   "outputs": [
    {
     "data": {
      "text/html": [
       "<div>\n",
       "<style scoped>\n",
       "    .dataframe tbody tr th:only-of-type {\n",
       "        vertical-align: middle;\n",
       "    }\n",
       "\n",
       "    .dataframe tbody tr th {\n",
       "        vertical-align: top;\n",
       "    }\n",
       "\n",
       "    .dataframe thead th {\n",
       "        text-align: right;\n",
       "    }\n",
       "</style>\n",
       "<table border=\"1\" class=\"dataframe\">\n",
       "  <thead>\n",
       "    <tr style=\"text-align: right;\">\n",
       "      <th></th>\n",
       "      <th>Year</th>\n",
       "      <th>Region</th>\n",
       "      <th>Sector</th>\n",
       "      <th>VALUE</th>\n",
       "    </tr>\n",
       "  </thead>\n",
       "  <tbody>\n",
       "    <tr>\n",
       "      <th>0</th>\n",
       "      <td>2000</td>\n",
       "      <td>Ireland</td>\n",
       "      <td>All selected NACE sectors ( A-S)</td>\n",
       "      <td>310464.0</td>\n",
       "    </tr>\n",
       "    <tr>\n",
       "      <th>1</th>\n",
       "      <td>2000</td>\n",
       "      <td>Ireland</td>\n",
       "      <td>Agriculture, forestry &amp; fishing, mining &amp; quar...</td>\n",
       "      <td>52452.0</td>\n",
       "    </tr>\n",
       "    <tr>\n",
       "      <th>2</th>\n",
       "      <td>2000</td>\n",
       "      <td>Ireland</td>\n",
       "      <td>Traditional Manufacturing (13 -18, 22-25, 28-3...</td>\n",
       "      <td>90200.0</td>\n",
       "    </tr>\n",
       "    <tr>\n",
       "      <th>3</th>\n",
       "      <td>2000</td>\n",
       "      <td>Ireland</td>\n",
       "      <td>Modern Manufacturing (19-21, 26-27, 325)</td>\n",
       "      <td>87248.0</td>\n",
       "    </tr>\n",
       "    <tr>\n",
       "      <th>4</th>\n",
       "      <td>2000</td>\n",
       "      <td>Ireland</td>\n",
       "      <td>Energy, Water, Waste &amp; Construction (D to F)</td>\n",
       "      <td>6751.0</td>\n",
       "    </tr>\n",
       "    <tr>\n",
       "      <th>...</th>\n",
       "      <td>...</td>\n",
       "      <td>...</td>\n",
       "      <td>...</td>\n",
       "      <td>...</td>\n",
       "    </tr>\n",
       "    <tr>\n",
       "      <th>1381</th>\n",
       "      <td>2021</td>\n",
       "      <td>Midlands</td>\n",
       "      <td>Traditional Manufacturing (13 -18, 22-25, 28-3...</td>\n",
       "      <td>4661.0</td>\n",
       "    </tr>\n",
       "    <tr>\n",
       "      <th>1382</th>\n",
       "      <td>2021</td>\n",
       "      <td>Midlands</td>\n",
       "      <td>Modern Manufacturing (19-21, 26-27, 325)</td>\n",
       "      <td>2563.0</td>\n",
       "    </tr>\n",
       "    <tr>\n",
       "      <th>1383</th>\n",
       "      <td>2021</td>\n",
       "      <td>Midlands</td>\n",
       "      <td>Energy, Water, Waste &amp; Construction (D to F)</td>\n",
       "      <td>599.0</td>\n",
       "    </tr>\n",
       "    <tr>\n",
       "      <th>1384</th>\n",
       "      <td>2021</td>\n",
       "      <td>Midlands</td>\n",
       "      <td>Information &amp; Communication Services (J)</td>\n",
       "      <td>2608.0</td>\n",
       "    </tr>\n",
       "    <tr>\n",
       "      <th>1385</th>\n",
       "      <td>2021</td>\n",
       "      <td>Midlands</td>\n",
       "      <td>Selected services (G to I, K to S)</td>\n",
       "      <td>1205.0</td>\n",
       "    </tr>\n",
       "  </tbody>\n",
       "</table>\n",
       "<p>1386 rows × 4 columns</p>\n",
       "</div>"
      ],
      "text/plain": [
       "      Year    Region                                             Sector  \\\n",
       "0     2000   Ireland                   All selected NACE sectors ( A-S)   \n",
       "1     2000   Ireland  Agriculture, forestry & fishing, mining & quar...   \n",
       "2     2000   Ireland  Traditional Manufacturing (13 -18, 22-25, 28-3...   \n",
       "3     2000   Ireland           Modern Manufacturing (19-21, 26-27, 325)   \n",
       "4     2000   Ireland       Energy, Water, Waste & Construction (D to F)   \n",
       "...    ...       ...                                                ...   \n",
       "1381  2021  Midlands  Traditional Manufacturing (13 -18, 22-25, 28-3...   \n",
       "1382  2021  Midlands           Modern Manufacturing (19-21, 26-27, 325)   \n",
       "1383  2021  Midlands       Energy, Water, Waste & Construction (D to F)   \n",
       "1384  2021  Midlands           Information & Communication Services (J)   \n",
       "1385  2021  Midlands                 Selected services (G to I, K to S)   \n",
       "\n",
       "         VALUE  \n",
       "0     310464.0  \n",
       "1      52452.0  \n",
       "2      90200.0  \n",
       "3      87248.0  \n",
       "4       6751.0  \n",
       "...        ...  \n",
       "1381    4661.0  \n",
       "1382    2563.0  \n",
       "1383     599.0  \n",
       "1384    2608.0  \n",
       "1385    1205.0  \n",
       "\n",
       "[1386 rows x 4 columns]"
      ]
     },
     "execution_count": 23,
     "metadata": {},
     "output_type": "execute_result"
    }
   ],
   "source": [
    "#Dropping irrelevant columns\n",
    "df=df.drop([\"Statistic Label\",\"UNIT\"], axis=1)\n",
    "df"
   ]
  },
  {
   "cell_type": "code",
   "execution_count": 30,
   "id": "039fb0dc",
   "metadata": {},
   "outputs": [
    {
     "name": "stdout",
     "output_type": "stream",
     "text": [
      "number of duplicate rows: (0, 4)\n"
     ]
    }
   ],
   "source": [
    "#Checking for duplicate\n",
    "duplicates=df[df.duplicated()]\n",
    "print(\"number of duplicate rows:\", duplicates.shape)"
   ]
  },
  {
   "cell_type": "markdown",
   "id": "de8e5bfd",
   "metadata": {},
   "source": [
    "There is no duplicated data in the dataset"
   ]
  },
  {
   "cell_type": "code",
   "execution_count": 24,
   "id": "b2baf6ea",
   "metadata": {},
   "outputs": [
    {
     "data": {
      "text/plain": [
       "array(['All selected NACE sectors ( A-S)',\n",
       "       'Agriculture, forestry & fishing, mining & quarrying, food, beverages and tobacco (A, B, 10, 11,12)',\n",
       "       'Traditional Manufacturing (13 -18, 22-25, 28-32.4, 32.9-33)',\n",
       "       'Modern Manufacturing\\xa0(19-21, 26-27, 325)',\n",
       "       'Energy, Water, Waste & Construction (D to F)',\n",
       "       'Information & Communication Services (J)',\n",
       "       'Selected services (G to I, K to S)'], dtype=object)"
      ]
     },
     "execution_count": 24,
     "metadata": {},
     "output_type": "execute_result"
    }
   ],
   "source": [
    "#Viewing unique values in sector column\n",
    "df[\"Sector\"].unique()"
   ]
  },
  {
   "cell_type": "code",
   "execution_count": 31,
   "id": "e3e98d42",
   "metadata": {},
   "outputs": [
    {
     "data": {
      "text/plain": [
       "array([2000, 2001, 2002, 2003, 2004, 2005, 2006, 2007, 2008, 2009, 2010,\n",
       "       2011, 2012, 2013, 2014, 2015, 2016, 2017, 2018, 2019, 2020, 2021],\n",
       "      dtype=int64)"
      ]
     },
     "execution_count": 31,
     "metadata": {},
     "output_type": "execute_result"
    }
   ],
   "source": [
    "#Viewing unique values in sector column\n",
    "df[\"Year\"].unique()"
   ]
  },
  {
   "cell_type": "code",
   "execution_count": 32,
   "id": "6c81fe91",
   "metadata": {},
   "outputs": [
    {
     "data": {
      "text/plain": [
       "array(['Ireland', 'Border', 'West', 'Mid West', 'South East',\n",
       "       'South West', 'Dublin', 'Mid East', 'Midlands'], dtype=object)"
      ]
     },
     "execution_count": 32,
     "metadata": {},
     "output_type": "execute_result"
    }
   ],
   "source": [
    "#Viewing unique values in sector column\n",
    "df[\"Region\"].unique()"
   ]
  },
  {
   "cell_type": "code",
   "execution_count": 25,
   "id": "071177fa",
   "metadata": {},
   "outputs": [
    {
     "data": {
      "text/plain": [
       "Year       0\n",
       "Region     0\n",
       "Sector     0\n",
       "VALUE     76\n",
       "dtype: int64"
      ]
     },
     "execution_count": 25,
     "metadata": {},
     "output_type": "execute_result"
    }
   ],
   "source": [
    "df.isnull().sum()"
   ]
  },
  {
   "cell_type": "code",
   "execution_count": 53,
   "id": "e9aba2b2",
   "metadata": {},
   "outputs": [
    {
     "name": "stdout",
     "output_type": "stream",
     "text": [
      "      Year    Region                                             Sector  \\\n",
      "0     2000   Ireland                   All selected NACE sectors ( A-S)   \n",
      "1     2000   Ireland  Agriculture, forestry & fishing, mining & quar...   \n",
      "2     2000   Ireland  Traditional Manufacturing (13 -18, 22-25, 28-3...   \n",
      "3     2000   Ireland           Modern Manufacturing (19-21, 26-27, 325)   \n",
      "4     2000   Ireland       Energy, Water, Waste & Construction (D to F)   \n",
      "...    ...       ...                                                ...   \n",
      "1381  2021  Midlands  Traditional Manufacturing (13 -18, 22-25, 28-3...   \n",
      "1382  2021  Midlands           Modern Manufacturing (19-21, 26-27, 325)   \n",
      "1383  2021  Midlands       Energy, Water, Waste & Construction (D to F)   \n",
      "1384  2021  Midlands           Information & Communication Services (J)   \n",
      "1385  2021  Midlands                 Selected services (G to I, K to S)   \n",
      "\n",
      "         VALUE  \n",
      "0     310464.0  \n",
      "1      52452.0  \n",
      "2      90200.0  \n",
      "3      87248.0  \n",
      "4       6751.0  \n",
      "...        ...  \n",
      "1381    4661.0  \n",
      "1382    2563.0  \n",
      "1383     599.0  \n",
      "1384    2608.0  \n",
      "1385    1205.0  \n",
      "\n",
      "[1310 rows x 4 columns]\n"
     ]
    }
   ],
   "source": [
    "#To delete null values\n",
    "df_without_null = df.dropna()\n",
    "print(df_without_null)"
   ]
  },
  {
   "cell_type": "code",
   "execution_count": 54,
   "id": "c8956644",
   "metadata": {},
   "outputs": [
    {
     "data": {
      "text/plain": [
       "Year      0\n",
       "Region    0\n",
       "Sector    0\n",
       "VALUE     0\n",
       "dtype: int64"
      ]
     },
     "execution_count": 54,
     "metadata": {},
     "output_type": "execute_result"
    }
   ],
   "source": [
    "#To confirm that there are no more null values\n",
    "df_without_null.isnull().sum()"
   ]
  },
  {
   "cell_type": "code",
   "execution_count": 55,
   "id": "fc4185c1",
   "metadata": {},
   "outputs": [
    {
     "name": "stderr",
     "output_type": "stream",
     "text": [
      "C:\\Users\\learn\\AppData\\Local\\Temp\\ipykernel_9368\\2178555163.py:3: SettingWithCopyWarning: \n",
      "A value is trying to be set on a copy of a slice from a DataFrame.\n",
      "Try using .loc[row_indexer,col_indexer] = value instead\n",
      "\n",
      "See the caveats in the documentation: https://pandas.pydata.org/pandas-docs/stable/user_guide/indexing.html#returning-a-view-versus-a-copy\n",
      "  df_without_null['Sector'] = df_without_null['Sector'].replace(pattern, '', regex=True)\n"
     ]
    },
    {
     "data": {
      "text/html": [
       "<div>\n",
       "<style scoped>\n",
       "    .dataframe tbody tr th:only-of-type {\n",
       "        vertical-align: middle;\n",
       "    }\n",
       "\n",
       "    .dataframe tbody tr th {\n",
       "        vertical-align: top;\n",
       "    }\n",
       "\n",
       "    .dataframe thead th {\n",
       "        text-align: right;\n",
       "    }\n",
       "</style>\n",
       "<table border=\"1\" class=\"dataframe\">\n",
       "  <thead>\n",
       "    <tr style=\"text-align: right;\">\n",
       "      <th></th>\n",
       "      <th>Year</th>\n",
       "      <th>Region</th>\n",
       "      <th>Sector</th>\n",
       "      <th>VALUE</th>\n",
       "    </tr>\n",
       "  </thead>\n",
       "  <tbody>\n",
       "    <tr>\n",
       "      <th>0</th>\n",
       "      <td>2000</td>\n",
       "      <td>Ireland</td>\n",
       "      <td>All selected NACE sectors</td>\n",
       "      <td>310464.0</td>\n",
       "    </tr>\n",
       "    <tr>\n",
       "      <th>1</th>\n",
       "      <td>2000</td>\n",
       "      <td>Ireland</td>\n",
       "      <td>Agriculture, forestry &amp; fishing, mining &amp; quar...</td>\n",
       "      <td>52452.0</td>\n",
       "    </tr>\n",
       "    <tr>\n",
       "      <th>2</th>\n",
       "      <td>2000</td>\n",
       "      <td>Ireland</td>\n",
       "      <td>Traditional Manufacturing</td>\n",
       "      <td>90200.0</td>\n",
       "    </tr>\n",
       "    <tr>\n",
       "      <th>3</th>\n",
       "      <td>2000</td>\n",
       "      <td>Ireland</td>\n",
       "      <td>Modern Manufacturing</td>\n",
       "      <td>87248.0</td>\n",
       "    </tr>\n",
       "    <tr>\n",
       "      <th>4</th>\n",
       "      <td>2000</td>\n",
       "      <td>Ireland</td>\n",
       "      <td>Energy, Water, Waste &amp; Construction</td>\n",
       "      <td>6751.0</td>\n",
       "    </tr>\n",
       "    <tr>\n",
       "      <th>...</th>\n",
       "      <td>...</td>\n",
       "      <td>...</td>\n",
       "      <td>...</td>\n",
       "      <td>...</td>\n",
       "    </tr>\n",
       "    <tr>\n",
       "      <th>1381</th>\n",
       "      <td>2021</td>\n",
       "      <td>Midlands</td>\n",
       "      <td>Traditional Manufacturing</td>\n",
       "      <td>4661.0</td>\n",
       "    </tr>\n",
       "    <tr>\n",
       "      <th>1382</th>\n",
       "      <td>2021</td>\n",
       "      <td>Midlands</td>\n",
       "      <td>Modern Manufacturing</td>\n",
       "      <td>2563.0</td>\n",
       "    </tr>\n",
       "    <tr>\n",
       "      <th>1383</th>\n",
       "      <td>2021</td>\n",
       "      <td>Midlands</td>\n",
       "      <td>Energy, Water, Waste &amp; Construction</td>\n",
       "      <td>599.0</td>\n",
       "    </tr>\n",
       "    <tr>\n",
       "      <th>1384</th>\n",
       "      <td>2021</td>\n",
       "      <td>Midlands</td>\n",
       "      <td>Information &amp; Communication Services</td>\n",
       "      <td>2608.0</td>\n",
       "    </tr>\n",
       "    <tr>\n",
       "      <th>1385</th>\n",
       "      <td>2021</td>\n",
       "      <td>Midlands</td>\n",
       "      <td>Selected services</td>\n",
       "      <td>1205.0</td>\n",
       "    </tr>\n",
       "  </tbody>\n",
       "</table>\n",
       "<p>1310 rows × 4 columns</p>\n",
       "</div>"
      ],
      "text/plain": [
       "      Year    Region                                             Sector  \\\n",
       "0     2000   Ireland                         All selected NACE sectors    \n",
       "1     2000   Ireland  Agriculture, forestry & fishing, mining & quar...   \n",
       "2     2000   Ireland                         Traditional Manufacturing    \n",
       "3     2000   Ireland                              Modern Manufacturing    \n",
       "4     2000   Ireland               Energy, Water, Waste & Construction    \n",
       "...    ...       ...                                                ...   \n",
       "1381  2021  Midlands                         Traditional Manufacturing    \n",
       "1382  2021  Midlands                              Modern Manufacturing    \n",
       "1383  2021  Midlands               Energy, Water, Waste & Construction    \n",
       "1384  2021  Midlands              Information & Communication Services    \n",
       "1385  2021  Midlands                                 Selected services    \n",
       "\n",
       "         VALUE  \n",
       "0     310464.0  \n",
       "1      52452.0  \n",
       "2      90200.0  \n",
       "3      87248.0  \n",
       "4       6751.0  \n",
       "...        ...  \n",
       "1381    4661.0  \n",
       "1382    2563.0  \n",
       "1383     599.0  \n",
       "1384    2608.0  \n",
       "1385    1205.0  \n",
       "\n",
       "[1310 rows x 4 columns]"
      ]
     },
     "execution_count": 55,
     "metadata": {},
     "output_type": "execute_result"
    }
   ],
   "source": [
    "# To clean description of the sectors and get rid of information in brackets\n",
    "pattern = r'\\([^)]*\\)'\n",
    "df_without_null['Sector'] = df_without_null['Sector'].replace(pattern, '', regex=True)\n",
    "df_without_null"
   ]
  },
  {
   "cell_type": "code",
   "execution_count": 75,
   "id": "02f8f2ac",
   "metadata": {},
   "outputs": [
    {
     "name": "stdout",
     "output_type": "stream",
     "text": [
      "Number of rows with value \"All selected NACE sectors \": 198\n"
     ]
    }
   ],
   "source": [
    "#Some values are representing totals for all sectors, to find out how many row:\n",
    "value_to_count_allsectors = 'All selected NACE sectors '\n",
    "count = (df_without_null['Sector'] == value_to_count_allsectors).sum()\n",
    "print(f'Number of rows with value \"{value_to_count_allsectors}\": {count}')"
   ]
  },
  {
   "cell_type": "code",
   "execution_count": 76,
   "id": "22a6209d",
   "metadata": {},
   "outputs": [
    {
     "name": "stdout",
     "output_type": "stream",
     "text": [
      "Number of rows with value \"Ireland\": 154\n"
     ]
    }
   ],
   "source": [
    "#Some values are representing totals for Ireland, to find out how many row:\n",
    "value_to_count_Ireland ='Ireland'\n",
    "count = (df_without_null['Region'] == value_to_count_Ireland).sum()\n",
    "print(f'Number of rows with value \"{value_to_count_Ireland}\": {count}')"
   ]
  },
  {
   "cell_type": "code",
   "execution_count": 88,
   "id": "2ba88c45",
   "metadata": {},
   "outputs": [
    {
     "name": "stdout",
     "output_type": "stream",
     "text": [
      "Number of rows with both values \"Ireland\" in the Region column and \"All selected NACE sectors \" in the Sector column: 22\n"
     ]
    }
   ],
   "source": [
    "#Some values are representing both totals for Ireland and for the Sectors, to find out how many row:\n",
    "count = len(df_without_null[(df_without_null['Region'] == value_to_count_Ireland) & (df_without_null['Sector'] == value_to_count_allsectors)])\n",
    "print(f'Number of rows with both values \"{value_to_count_Ireland}\" in the Region column and \"{value_to_count_allsectors}\" in the Sector column: {count}')"
   ]
  },
  {
   "cell_type": "code",
   "execution_count": 93,
   "id": "fc7aa0f5",
   "metadata": {},
   "outputs": [
    {
     "data": {
      "text/html": [
       "<div>\n",
       "<style scoped>\n",
       "    .dataframe tbody tr th:only-of-type {\n",
       "        vertical-align: middle;\n",
       "    }\n",
       "\n",
       "    .dataframe tbody tr th {\n",
       "        vertical-align: top;\n",
       "    }\n",
       "\n",
       "    .dataframe thead th {\n",
       "        text-align: right;\n",
       "    }\n",
       "</style>\n",
       "<table border=\"1\" class=\"dataframe\">\n",
       "  <thead>\n",
       "    <tr style=\"text-align: right;\">\n",
       "      <th></th>\n",
       "      <th>Year</th>\n",
       "      <th>Region</th>\n",
       "      <th>Sector</th>\n",
       "      <th>VALUE</th>\n",
       "    </tr>\n",
       "  </thead>\n",
       "  <tbody>\n",
       "    <tr>\n",
       "      <th>8</th>\n",
       "      <td>2000</td>\n",
       "      <td>Border</td>\n",
       "      <td>Agriculture, forestry &amp; fishing, mining &amp; quar...</td>\n",
       "      <td>6631.0</td>\n",
       "    </tr>\n",
       "    <tr>\n",
       "      <th>9</th>\n",
       "      <td>2000</td>\n",
       "      <td>Border</td>\n",
       "      <td>Traditional Manufacturing</td>\n",
       "      <td>10537.0</td>\n",
       "    </tr>\n",
       "    <tr>\n",
       "      <th>10</th>\n",
       "      <td>2000</td>\n",
       "      <td>Border</td>\n",
       "      <td>Modern Manufacturing</td>\n",
       "      <td>6129.0</td>\n",
       "    </tr>\n",
       "    <tr>\n",
       "      <th>15</th>\n",
       "      <td>2000</td>\n",
       "      <td>West</td>\n",
       "      <td>Agriculture, forestry &amp; fishing, mining &amp; quar...</td>\n",
       "      <td>2552.0</td>\n",
       "    </tr>\n",
       "    <tr>\n",
       "      <th>16</th>\n",
       "      <td>2000</td>\n",
       "      <td>West</td>\n",
       "      <td>Traditional Manufacturing</td>\n",
       "      <td>7033.0</td>\n",
       "    </tr>\n",
       "    <tr>\n",
       "      <th>...</th>\n",
       "      <td>...</td>\n",
       "      <td>...</td>\n",
       "      <td>...</td>\n",
       "      <td>...</td>\n",
       "    </tr>\n",
       "    <tr>\n",
       "      <th>1381</th>\n",
       "      <td>2021</td>\n",
       "      <td>Midlands</td>\n",
       "      <td>Traditional Manufacturing</td>\n",
       "      <td>4661.0</td>\n",
       "    </tr>\n",
       "    <tr>\n",
       "      <th>1382</th>\n",
       "      <td>2021</td>\n",
       "      <td>Midlands</td>\n",
       "      <td>Modern Manufacturing</td>\n",
       "      <td>2563.0</td>\n",
       "    </tr>\n",
       "    <tr>\n",
       "      <th>1383</th>\n",
       "      <td>2021</td>\n",
       "      <td>Midlands</td>\n",
       "      <td>Energy, Water, Waste &amp; Construction</td>\n",
       "      <td>599.0</td>\n",
       "    </tr>\n",
       "    <tr>\n",
       "      <th>1384</th>\n",
       "      <td>2021</td>\n",
       "      <td>Midlands</td>\n",
       "      <td>Information &amp; Communication Services</td>\n",
       "      <td>2608.0</td>\n",
       "    </tr>\n",
       "    <tr>\n",
       "      <th>1385</th>\n",
       "      <td>2021</td>\n",
       "      <td>Midlands</td>\n",
       "      <td>Selected services</td>\n",
       "      <td>1205.0</td>\n",
       "    </tr>\n",
       "  </tbody>\n",
       "</table>\n",
       "<p>980 rows × 4 columns</p>\n",
       "</div>"
      ],
      "text/plain": [
       "      Year    Region                                             Sector  \\\n",
       "8     2000    Border  Agriculture, forestry & fishing, mining & quar...   \n",
       "9     2000    Border                         Traditional Manufacturing    \n",
       "10    2000    Border                              Modern Manufacturing    \n",
       "15    2000      West  Agriculture, forestry & fishing, mining & quar...   \n",
       "16    2000      West                         Traditional Manufacturing    \n",
       "...    ...       ...                                                ...   \n",
       "1381  2021  Midlands                         Traditional Manufacturing    \n",
       "1382  2021  Midlands                              Modern Manufacturing    \n",
       "1383  2021  Midlands               Energy, Water, Waste & Construction    \n",
       "1384  2021  Midlands              Information & Communication Services    \n",
       "1385  2021  Midlands                                 Selected services    \n",
       "\n",
       "        VALUE  \n",
       "8      6631.0  \n",
       "9     10537.0  \n",
       "10     6129.0  \n",
       "15     2552.0  \n",
       "16     7033.0  \n",
       "...       ...  \n",
       "1381   4661.0  \n",
       "1382   2563.0  \n",
       "1383    599.0  \n",
       "1384   2608.0  \n",
       "1385   1205.0  \n",
       "\n",
       "[980 rows x 4 columns]"
      ]
     },
     "execution_count": 93,
     "metadata": {},
     "output_type": "execute_result"
    }
   ],
   "source": [
    "#Remove the totals in columns Sectors and Regions\n",
    "values_to_remove_region = 'Ireland'\n",
    "values_to_remove_sector = 'All selected NACE sectors ' \n",
    "filtered_df = df_without_null[(df_without_null['Region'] != values_to_remove_region) & (df_without_null['Sector'] != values_to_remove_sector)]\n",
    "filtered_df"
   ]
  },
  {
   "cell_type": "markdown",
   "id": "9812cdf1",
   "metadata": {},
   "source": [
    "Number of raws is 980, which is correct: 1310 - 154 -198 + 22= 980"
   ]
  },
  {
   "cell_type": "code",
   "execution_count": 95,
   "id": "6d19f47b",
   "metadata": {},
   "outputs": [
    {
     "data": {
      "text/html": [
       "<div>\n",
       "<style scoped>\n",
       "    .dataframe tbody tr th:only-of-type {\n",
       "        vertical-align: middle;\n",
       "    }\n",
       "\n",
       "    .dataframe tbody tr th {\n",
       "        vertical-align: top;\n",
       "    }\n",
       "\n",
       "    .dataframe thead th {\n",
       "        text-align: right;\n",
       "    }\n",
       "</style>\n",
       "<table border=\"1\" class=\"dataframe\">\n",
       "  <thead>\n",
       "    <tr style=\"text-align: right;\">\n",
       "      <th></th>\n",
       "      <th>Year</th>\n",
       "      <th>VALUE</th>\n",
       "    </tr>\n",
       "  </thead>\n",
       "  <tbody>\n",
       "    <tr>\n",
       "      <th>count</th>\n",
       "      <td>980.000000</td>\n",
       "      <td>980.000000</td>\n",
       "    </tr>\n",
       "    <tr>\n",
       "      <th>mean</th>\n",
       "      <td>2011.044898</td>\n",
       "      <td>6695.898980</td>\n",
       "    </tr>\n",
       "    <tr>\n",
       "      <th>std</th>\n",
       "      <td>6.221320</td>\n",
       "      <td>7787.612738</td>\n",
       "    </tr>\n",
       "    <tr>\n",
       "      <th>min</th>\n",
       "      <td>2000.000000</td>\n",
       "      <td>26.000000</td>\n",
       "    </tr>\n",
       "    <tr>\n",
       "      <th>25%</th>\n",
       "      <td>2006.000000</td>\n",
       "      <td>2333.500000</td>\n",
       "    </tr>\n",
       "    <tr>\n",
       "      <th>50%</th>\n",
       "      <td>2011.000000</td>\n",
       "      <td>5104.500000</td>\n",
       "    </tr>\n",
       "    <tr>\n",
       "      <th>75%</th>\n",
       "      <td>2016.000000</td>\n",
       "      <td>8327.500000</td>\n",
       "    </tr>\n",
       "    <tr>\n",
       "      <th>max</th>\n",
       "      <td>2021.000000</td>\n",
       "      <td>79486.000000</td>\n",
       "    </tr>\n",
       "  </tbody>\n",
       "</table>\n",
       "</div>"
      ],
      "text/plain": [
       "              Year         VALUE\n",
       "count   980.000000    980.000000\n",
       "mean   2011.044898   6695.898980\n",
       "std       6.221320   7787.612738\n",
       "min    2000.000000     26.000000\n",
       "25%    2006.000000   2333.500000\n",
       "50%    2011.000000   5104.500000\n",
       "75%    2016.000000   8327.500000\n",
       "max    2021.000000  79486.000000"
      ]
     },
     "execution_count": 95,
     "metadata": {},
     "output_type": "execute_result"
    }
   ],
   "source": [
    "filtered_df.describe()"
   ]
  },
  {
   "cell_type": "markdown",
   "id": "4306de5f",
   "metadata": {},
   "source": [
    "The table above shows correct representation of the data as it is free from Null values and totals"
   ]
  }
 ],
 "metadata": {
  "kernelspec": {
   "display_name": "Python 3 (ipykernel)",
   "language": "python",
   "name": "python3"
  },
  "language_info": {
   "codemirror_mode": {
    "name": "ipython",
    "version": 3
   },
   "file_extension": ".py",
   "mimetype": "text/x-python",
   "name": "python",
   "nbconvert_exporter": "python",
   "pygments_lexer": "ipython3",
   "version": "3.10.9"
  }
 },
 "nbformat": 4,
 "nbformat_minor": 5
}
