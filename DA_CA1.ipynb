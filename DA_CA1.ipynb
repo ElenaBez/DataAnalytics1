{
 "cells": [
  {
   "cell_type": "code",
   "execution_count": 1,
   "id": "89fde660",
   "metadata": {},
   "outputs": [],
   "source": [
    "import pandas as pd"
   ]
  },
  {
   "cell_type": "code",
   "execution_count": 4,
   "id": "c301f700",
   "metadata": {},
   "outputs": [],
   "source": [
    "df=pd.read_csv(\"Emp by sector and region.csv\")"
   ]
  },
  {
   "cell_type": "code",
   "execution_count": 6,
   "id": "c407c00e",
   "metadata": {},
   "outputs": [
    {
     "data": {
      "text/html": [
       "<div>\n",
       "<style scoped>\n",
       "    .dataframe tbody tr th:only-of-type {\n",
       "        vertical-align: middle;\n",
       "    }\n",
       "\n",
       "    .dataframe tbody tr th {\n",
       "        vertical-align: top;\n",
       "    }\n",
       "\n",
       "    .dataframe thead th {\n",
       "        text-align: right;\n",
       "    }\n",
       "</style>\n",
       "<table border=\"1\" class=\"dataframe\">\n",
       "  <thead>\n",
       "    <tr style=\"text-align: right;\">\n",
       "      <th></th>\n",
       "      <th>Statistic Label</th>\n",
       "      <th>Year</th>\n",
       "      <th>Region</th>\n",
       "      <th>Sector</th>\n",
       "      <th>UNIT</th>\n",
       "      <th>VALUE</th>\n",
       "    </tr>\n",
       "  </thead>\n",
       "  <tbody>\n",
       "    <tr>\n",
       "      <th>0</th>\n",
       "      <td>Total Employment</td>\n",
       "      <td>2000</td>\n",
       "      <td>Ireland</td>\n",
       "      <td>All selected NACE sectors ( A-S)</td>\n",
       "      <td>Person</td>\n",
       "      <td>310464.0</td>\n",
       "    </tr>\n",
       "    <tr>\n",
       "      <th>1</th>\n",
       "      <td>Total Employment</td>\n",
       "      <td>2000</td>\n",
       "      <td>Ireland</td>\n",
       "      <td>Agriculture, forestry &amp; fishing, mining &amp; quar...</td>\n",
       "      <td>Person</td>\n",
       "      <td>52452.0</td>\n",
       "    </tr>\n",
       "    <tr>\n",
       "      <th>2</th>\n",
       "      <td>Total Employment</td>\n",
       "      <td>2000</td>\n",
       "      <td>Ireland</td>\n",
       "      <td>Traditional Manufacturing (13 -18, 22-25, 28-3...</td>\n",
       "      <td>Person</td>\n",
       "      <td>90200.0</td>\n",
       "    </tr>\n",
       "    <tr>\n",
       "      <th>3</th>\n",
       "      <td>Total Employment</td>\n",
       "      <td>2000</td>\n",
       "      <td>Ireland</td>\n",
       "      <td>Modern Manufacturing (19-21, 26-27, 325)</td>\n",
       "      <td>Person</td>\n",
       "      <td>87248.0</td>\n",
       "    </tr>\n",
       "    <tr>\n",
       "      <th>4</th>\n",
       "      <td>Total Employment</td>\n",
       "      <td>2000</td>\n",
       "      <td>Ireland</td>\n",
       "      <td>Energy, Water, Waste &amp; Construction (D to F)</td>\n",
       "      <td>Person</td>\n",
       "      <td>6751.0</td>\n",
       "    </tr>\n",
       "    <tr>\n",
       "      <th>5</th>\n",
       "      <td>Total Employment</td>\n",
       "      <td>2000</td>\n",
       "      <td>Ireland</td>\n",
       "      <td>Information &amp; Communication Services (J)</td>\n",
       "      <td>Person</td>\n",
       "      <td>54032.0</td>\n",
       "    </tr>\n",
       "    <tr>\n",
       "      <th>6</th>\n",
       "      <td>Total Employment</td>\n",
       "      <td>2000</td>\n",
       "      <td>Ireland</td>\n",
       "      <td>Selected services (G to I, K to S)</td>\n",
       "      <td>Person</td>\n",
       "      <td>19779.0</td>\n",
       "    </tr>\n",
       "    <tr>\n",
       "      <th>7</th>\n",
       "      <td>Total Employment</td>\n",
       "      <td>2000</td>\n",
       "      <td>Border</td>\n",
       "      <td>All selected NACE sectors ( A-S)</td>\n",
       "      <td>Person</td>\n",
       "      <td>24385.0</td>\n",
       "    </tr>\n",
       "    <tr>\n",
       "      <th>8</th>\n",
       "      <td>Total Employment</td>\n",
       "      <td>2000</td>\n",
       "      <td>Border</td>\n",
       "      <td>Agriculture, forestry &amp; fishing, mining &amp; quar...</td>\n",
       "      <td>Person</td>\n",
       "      <td>6631.0</td>\n",
       "    </tr>\n",
       "    <tr>\n",
       "      <th>9</th>\n",
       "      <td>Total Employment</td>\n",
       "      <td>2000</td>\n",
       "      <td>Border</td>\n",
       "      <td>Traditional Manufacturing (13 -18, 22-25, 28-3...</td>\n",
       "      <td>Person</td>\n",
       "      <td>10537.0</td>\n",
       "    </tr>\n",
       "  </tbody>\n",
       "</table>\n",
       "</div>"
      ],
      "text/plain": [
       "    Statistic Label  Year   Region  \\\n",
       "0  Total Employment  2000  Ireland   \n",
       "1  Total Employment  2000  Ireland   \n",
       "2  Total Employment  2000  Ireland   \n",
       "3  Total Employment  2000  Ireland   \n",
       "4  Total Employment  2000  Ireland   \n",
       "5  Total Employment  2000  Ireland   \n",
       "6  Total Employment  2000  Ireland   \n",
       "7  Total Employment  2000   Border   \n",
       "8  Total Employment  2000   Border   \n",
       "9  Total Employment  2000   Border   \n",
       "\n",
       "                                              Sector    UNIT     VALUE  \n",
       "0                   All selected NACE sectors ( A-S)  Person  310464.0  \n",
       "1  Agriculture, forestry & fishing, mining & quar...  Person   52452.0  \n",
       "2  Traditional Manufacturing (13 -18, 22-25, 28-3...  Person   90200.0  \n",
       "3           Modern Manufacturing (19-21, 26-27, 325)  Person   87248.0  \n",
       "4       Energy, Water, Waste & Construction (D to F)  Person    6751.0  \n",
       "5           Information & Communication Services (J)  Person   54032.0  \n",
       "6                 Selected services (G to I, K to S)  Person   19779.0  \n",
       "7                   All selected NACE sectors ( A-S)  Person   24385.0  \n",
       "8  Agriculture, forestry & fishing, mining & quar...  Person    6631.0  \n",
       "9  Traditional Manufacturing (13 -18, 22-25, 28-3...  Person   10537.0  "
      ]
     },
     "execution_count": 6,
     "metadata": {},
     "output_type": "execute_result"
    }
   ],
   "source": [
    "df.head(10)"
   ]
  },
  {
   "cell_type": "code",
   "execution_count": 7,
   "id": "66a85070",
   "metadata": {},
   "outputs": [
    {
     "data": {
      "text/plain": [
       "(1386, 6)"
      ]
     },
     "execution_count": 7,
     "metadata": {},
     "output_type": "execute_result"
    }
   ],
   "source": [
    "df.shape"
   ]
  },
  {
   "cell_type": "code",
   "execution_count": 9,
   "id": "1c8b1ce6",
   "metadata": {},
   "outputs": [
    {
     "data": {
      "text/plain": [
       "Statistic Label     object\n",
       "Year                 int64\n",
       "Region              object\n",
       "Sector              object\n",
       "UNIT                object\n",
       "VALUE              float64\n",
       "dtype: object"
      ]
     },
     "execution_count": 9,
     "metadata": {},
     "output_type": "execute_result"
    }
   ],
   "source": [
    "df.dtypes"
   ]
  },
  {
   "cell_type": "code",
   "execution_count": 14,
   "id": "a67d2dd7",
   "metadata": {},
   "outputs": [
    {
     "data": {
      "text/plain": [
       "array(['All selected NACE sectors ( A-S)',\n",
       "       'Agriculture, forestry & fishing, mining & quarrying, food, beverages and tobacco (A, B, 10, 11,12)',\n",
       "       'Traditional Manufacturing (13 -18, 22-25, 28-32.4, 32.9-33)',\n",
       "       'Modern Manufacturing\\xa0(19-21, 26-27, 325)',\n",
       "       'Energy, Water, Waste & Construction (D to F)',\n",
       "       'Information & Communication Services (J)',\n",
       "       'Selected services (G to I, K to S)'], dtype=object)"
      ]
     },
     "execution_count": 14,
     "metadata": {},
     "output_type": "execute_result"
    }
   ],
   "source": [
    "df[\"Sector\"].unique()"
   ]
  },
  {
   "cell_type": "code",
   "execution_count": 11,
   "id": "4dbcba47",
   "metadata": {},
   "outputs": [
    {
     "data": {
      "text/plain": [
       "Statistic Label     0\n",
       "Year                0\n",
       "Region              0\n",
       "Sector              0\n",
       "UNIT                0\n",
       "VALUE              76\n",
       "dtype: int64"
      ]
     },
     "execution_count": 11,
     "metadata": {},
     "output_type": "execute_result"
    }
   ],
   "source": [
    "df.isnull().sum()"
   ]
  },
  {
   "cell_type": "code",
   "execution_count": 12,
   "id": "46d20229",
   "metadata": {},
   "outputs": [
    {
     "data": {
      "text/html": [
       "<div>\n",
       "<style scoped>\n",
       "    .dataframe tbody tr th:only-of-type {\n",
       "        vertical-align: middle;\n",
       "    }\n",
       "\n",
       "    .dataframe tbody tr th {\n",
       "        vertical-align: top;\n",
       "    }\n",
       "\n",
       "    .dataframe thead th {\n",
       "        text-align: right;\n",
       "    }\n",
       "</style>\n",
       "<table border=\"1\" class=\"dataframe\">\n",
       "  <thead>\n",
       "    <tr style=\"text-align: right;\">\n",
       "      <th></th>\n",
       "      <th>Year</th>\n",
       "      <th>VALUE</th>\n",
       "    </tr>\n",
       "  </thead>\n",
       "  <tbody>\n",
       "    <tr>\n",
       "      <th>count</th>\n",
       "      <td>1386.000000</td>\n",
       "      <td>1310.000000</td>\n",
       "    </tr>\n",
       "    <tr>\n",
       "      <th>mean</th>\n",
       "      <td>2010.500000</td>\n",
       "      <td>20150.031298</td>\n",
       "    </tr>\n",
       "    <tr>\n",
       "      <th>std</th>\n",
       "      <td>6.346579</td>\n",
       "      <td>42772.098865</td>\n",
       "    </tr>\n",
       "    <tr>\n",
       "      <th>min</th>\n",
       "      <td>2000.000000</td>\n",
       "      <td>26.000000</td>\n",
       "    </tr>\n",
       "    <tr>\n",
       "      <th>25%</th>\n",
       "      <td>2005.000000</td>\n",
       "      <td>2982.250000</td>\n",
       "    </tr>\n",
       "    <tr>\n",
       "      <th>50%</th>\n",
       "      <td>2010.500000</td>\n",
       "      <td>7159.000000</td>\n",
       "    </tr>\n",
       "    <tr>\n",
       "      <th>75%</th>\n",
       "      <td>2016.000000</td>\n",
       "      <td>18070.500000</td>\n",
       "    </tr>\n",
       "    <tr>\n",
       "      <th>max</th>\n",
       "      <td>2021.000000</td>\n",
       "      <td>419041.000000</td>\n",
       "    </tr>\n",
       "  </tbody>\n",
       "</table>\n",
       "</div>"
      ],
      "text/plain": [
       "              Year          VALUE\n",
       "count  1386.000000    1310.000000\n",
       "mean   2010.500000   20150.031298\n",
       "std       6.346579   42772.098865\n",
       "min    2000.000000      26.000000\n",
       "25%    2005.000000    2982.250000\n",
       "50%    2010.500000    7159.000000\n",
       "75%    2016.000000   18070.500000\n",
       "max    2021.000000  419041.000000"
      ]
     },
     "execution_count": 12,
     "metadata": {},
     "output_type": "execute_result"
    }
   ],
   "source": [
    "df.describe()"
   ]
  },
  {
   "cell_type": "code",
   "execution_count": null,
   "id": "934012ed",
   "metadata": {},
   "outputs": [],
   "source": []
  }
 ],
 "metadata": {
  "kernelspec": {
   "display_name": "Python 3 (ipykernel)",
   "language": "python",
   "name": "python3"
  },
  "language_info": {
   "codemirror_mode": {
    "name": "ipython",
    "version": 3
   },
   "file_extension": ".py",
   "mimetype": "text/x-python",
   "name": "python",
   "nbconvert_exporter": "python",
   "pygments_lexer": "ipython3",
   "version": "3.10.9"
  }
 },
 "nbformat": 4,
 "nbformat_minor": 5
}
